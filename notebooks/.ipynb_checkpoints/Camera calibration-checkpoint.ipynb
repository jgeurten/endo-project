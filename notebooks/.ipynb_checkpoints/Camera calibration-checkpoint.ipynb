{
 "cells": [
  {
   "cell_type": "markdown",
   "metadata": {},
   "source": [
    "#  Calibration\n",
    "\n",
    "Opencv's [Camera Calibration and 3D Reconstruction API](http://docs.opencv.org/2.4/modules/calib3d/doc/camera_calibration_and_3d_reconstruction.html) assumes a 'pinhole camera model' from which a scene is formed by projecting 3D points into the image plane. \n",
    "\n",
    "# Algorithm\n",
    "\n",
    "1. Get camera intrinsic parameters (camera matrix) \n",
    "\n",
    "Purpose: Map world coordinates to pixel coordinates. \n",
    "\n",
    "Parameters: focal length (x and y), principal point (x and y); typically at the imafe center. \n",
    "\n",
    "2. Get camera extrinsic params \n",
    "\n",
    "Purpose: Defines the camera's center and the camera's heading in world coordinates. Describes the camera motion relative to a static scene, or vice-versa. \n",
    "\n",
    "\n",
    "Getting these parameters is accomplished by the following:\n",
    "\n",
    "C++: double calibrateCamera(InputArrayOfArrays objectPoints, InputArrayOfArrays imagePoints, Size imageSize, InputOutputArray cameraMatrix, InputOutputArray distCoeffs, OutputArrayOfArrays rvecs, OutputArrayOfArrays tvecs, int flags=0, TermCriteria criteria=TermCriteria( TermCriteria::COUNT+TermCriteria::EPS, 30, DBL_EPSILON) )\n",
    "\n",
    "Python: cv2.calibrateCamera(objectPoints, imagePoints, imageSize[, cameraMatrix[, distCoeffs[, rvecs[, tvecs[, flags[, criteria]]]]]]) → retval, cameraMatrix, distCoeffs, rvecs, tvecs"
   ]
  }
 ],
 "metadata": {
  "kernelspec": {
   "display_name": "Python 3",
   "language": "python",
   "name": "python3"
  },
  "language_info": {
   "codemirror_mode": {
    "name": "ipython",
    "version": 3
   },
   "file_extension": ".py",
   "mimetype": "text/x-python",
   "name": "python",
   "nbconvert_exporter": "python",
   "pygments_lexer": "ipython3",
   "version": "3.6.0"
  }
 },
 "nbformat": 4,
 "nbformat_minor": 2
}
