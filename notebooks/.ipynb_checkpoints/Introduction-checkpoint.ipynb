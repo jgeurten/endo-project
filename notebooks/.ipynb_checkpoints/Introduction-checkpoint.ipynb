{
 "cells": [
  {
   "cell_type": "markdown",
   "metadata": {},
   "source": [
    "# Introduction\n",
    "\n",
    "In these notebooks to come, the project progression and algorithms will be documented using text, equations, images and code. \n",
    "\n",
    "This project is being undertaken at Robarts Research Institute in London, Ontario, Canada, under the guidance of Elvis Chen, in Dr. Terry Peters' laboratory. \n",
    "\n",
    "# Motivation\n",
    "\n",
    "The motivation of the project is the many commercially available 3D laser scanners. These scanners have many applications in art, tech, and medicine. The particular application of this project will be the latter of the examples, medicine, specifically endoscopic surgeries. \n",
    "\n",
    "The goal of the project is to use laser scanning technology to convert 2D images of the colon, for example, to obtain 3D reconstructions of the patient's anatomical condition. \n",
    "\n",
    "The primary open source 3D laser scanners that this project will base its efforts off of are the following:\n",
    "\n",
    "1. [Fabscan Pi](https://github.com/mariolukas) \n",
    "\n",
    "Desktop 3d scanner with images uploaded to Raspi server\n",
    "\n",
    "2. [Ciclop](https://github.com/bqlabs/ciclop)\n",
    "\n",
    "Desktop 3d scanner\n",
    "\n",
    "3. [Horus](https://github.com/bqlabs/horus)\n",
    "\n",
    "Desktop application\n",
    "\n"
   ]
  }
 ],
 "metadata": {
  "kernelspec": {
   "display_name": "Python 3",
   "language": "python",
   "name": "python3"
  },
  "language_info": {
   "codemirror_mode": {
    "name": "ipython",
    "version": 3
   },
   "file_extension": ".py",
   "mimetype": "text/x-python",
   "name": "python",
   "nbconvert_exporter": "python",
   "pygments_lexer": "ipython3",
   "version": "3.6.0"
  }
 },
 "nbformat": 4,
 "nbformat_minor": 2
}
